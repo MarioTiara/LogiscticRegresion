{
  "nbformat": 4,
  "nbformat_minor": 0,
  "metadata": {
    "colab": {
      "name": "LogisticRegresion.ipynb",
      "provenance": [],
      "authorship_tag": "ABX9TyNxTSnRWxmJOerjl4QTuLsD",
      "include_colab_link": true
    },
    "kernelspec": {
      "name": "python3",
      "display_name": "Python 3"
    },
    "language_info": {
      "name": "python"
    }
  },
  "cells": [
    {
      "cell_type": "markdown",
      "metadata": {
        "id": "view-in-github",
        "colab_type": "text"
      },
      "source": [
        "<a href=\"https://colab.research.google.com/github/MarioTiara/LogiscticRegresion/blob/main/LogisticRegresion.ipynb\" target=\"_parent\"><img src=\"https://colab.research.google.com/assets/colab-badge.svg\" alt=\"Open In Colab\"/></a>"
      ]
    },
    {
      "cell_type": "code",
      "source": [
        "from sklearn.model_selection import train_test_split\n",
        "import pandas as pd\n",
        "from sklearn.linear_model import LogisticRegression\n",
        "from sklearn.metrics import confusion_matrix, classification_report"
      ],
      "metadata": {
        "id": "4xETpspGVpmU"
      },
      "execution_count": 1,
      "outputs": []
    },
    {
      "cell_type": "code",
      "execution_count": 2,
      "metadata": {
        "colab": {
          "base_uri": "https://localhost:8080/"
        },
        "id": "uHCq9aqPVOZs",
        "outputId": "c2a3544b-b96f-4052-c823-6228832e6b97"
      },
      "outputs": [
        {
          "output_type": "execute_result",
          "data": {
            "text/plain": [
              "100000"
            ]
          },
          "metadata": {},
          "execution_count": 2
        }
      ],
      "source": [
        "\n",
        "df = pd.read_csv('https://storage.googleapis.com/dqlab-dataset/data_retail.csv', sep=';')\n",
        "df['First_Transaction'] = pd.to_datetime(df['First_Transaction']/1000, unit='s', origin='1970-01-01')\n",
        "df['Last_Transaction'] = pd.to_datetime(df['Last_Transaction']/1000, unit='s', origin='1970-01-01')\n",
        "df['Year_First_Transaction'] = df['First_Transaction'].dt.year\n",
        "df['Year_Last_Transaction'] = df['Last_Transaction'].dt.year\n",
        "df.loc[df['Last_Transaction'] <= '2018-08-01', 'is_churn'] = True \n",
        "df.loc[df['Last_Transaction'] > '2018-08-01', 'is_churn'] = False \n",
        "\n",
        "len(df)"
      ]
    },
    {
      "cell_type": "code",
      "source": [
        "df['Year_Diff']=df['Year_Last_Transaction']-df['Year_First_Transaction']\n",
        "\n",
        "data = df.drop(['no', 'Row_Num', 'Customer_ID', 'Product', 'First_Transaction','Last_Transaction','Year_First_Transaction','Year_Last_Transaction'], axis=1)\n",
        "\n",
        "\n",
        "X = data.drop(['is_churn'], axis=1)\n",
        "y = data['is_churn']\n",
        "y=y.astype('int')\n",
        "\n",
        "print(y)\n",
        "print(X)"
      ],
      "metadata": {
        "colab": {
          "base_uri": "https://localhost:8080/"
        },
        "id": "zWWGh9AAVeue",
        "outputId": "ac7b88ab-c458-45a9-d246-475efacdb270"
      },
      "execution_count": 3,
      "outputs": [
        {
          "output_type": "stream",
          "name": "stdout",
          "text": [
            "0        0\n",
            "1        0\n",
            "2        0\n",
            "3        0\n",
            "4        0\n",
            "        ..\n",
            "99995    1\n",
            "99996    1\n",
            "99997    1\n",
            "99998    1\n",
            "99999    0\n",
            "Name: is_churn, Length: 100000, dtype: int64\n",
            "       Average_Transaction_Amount  Count_Transaction  Year_Diff\n",
            "0                         1467681                 22          2\n",
            "1                         1269337                 41          4\n",
            "2                          310915                 30          2\n",
            "3                          722632                 27          2\n",
            "4                         1775036                 25          3\n",
            "...                           ...                ...        ...\n",
            "99995                      298662                  1          0\n",
            "99996                      349556                  1          0\n",
            "99997                      598013                  1          0\n",
            "99998                     1208591                  1          0\n",
            "99999                      486710                  1          0\n",
            "\n",
            "[100000 rows x 3 columns]\n"
          ]
        }
      ]
    },
    {
      "cell_type": "code",
      "source": [
        "X_train, X_test, y_train, y_test = train_test_split(X, y, test_size=0.25, random_state=0)\n",
        "\n",
        "print(X_train)\n",
        "print(y_train)"
      ],
      "metadata": {
        "colab": {
          "base_uri": "https://localhost:8080/"
        },
        "id": "uTUsJ5FGbiIu",
        "outputId": "306708ba-e192-49b0-ae3c-5542b3c96002"
      },
      "execution_count": 4,
      "outputs": [
        {
          "output_type": "stream",
          "name": "stdout",
          "text": [
            "       Average_Transaction_Amount  Count_Transaction  Year_Diff\n",
            "2606                      1649125                 34          2\n",
            "57228                     7432327                  1          0\n",
            "8382                      1224173                 27          2\n",
            "60281                     3775449                  2          0\n",
            "48432                      149891                  1          0\n",
            "...                           ...                ...        ...\n",
            "21243                     1630986                  1          0\n",
            "45891                      666589                  1          0\n",
            "42613                     2876998                  1          0\n",
            "43567                     1000026                  5          0\n",
            "68268                     2318409                  1          0\n",
            "\n",
            "[75000 rows x 3 columns]\n",
            "2606     0\n",
            "57228    0\n",
            "8382     1\n",
            "60281    1\n",
            "48432    0\n",
            "        ..\n",
            "21243    1\n",
            "45891    1\n",
            "42613    1\n",
            "43567    1\n",
            "68268    1\n",
            "Name: is_churn, Length: 75000, dtype: int64\n"
          ]
        }
      ]
    },
    {
      "cell_type": "code",
      "source": [
        "\n",
        "# Call the classifier\n",
        "logreg = LogisticRegression()\n",
        "\n",
        "\n",
        "# Fit the classifier to the training data  \n",
        "logreg = logreg.fit(X_train, y_train)"
      ],
      "metadata": {
        "id": "ZJvMMtmoVz-c"
      },
      "execution_count": 5,
      "outputs": []
    },
    {
      "cell_type": "code",
      "source": [
        "#Training Model: Predict \n",
        "y_pred = logreg.predict(X_test)\n",
        "\n",
        "#Evaluate Model Performance\n",
        "print('Training Accuracy :', logreg.score(X_train, y_train))  \n",
        "print('Testing Accuracy :', logreg.score(X_test, y_test))  \n"
      ],
      "metadata": {
        "colab": {
          "base_uri": "https://localhost:8080/"
        },
        "id": "5kT3PwIfeUTF",
        "outputId": "c9d37ecd-4ab8-495f-d993-f8e16e4188f6"
      },
      "execution_count": 6,
      "outputs": [
        {
          "output_type": "stream",
          "name": "stdout",
          "text": [
            "Training Accuracy : 0.6652533333333334\n",
            "Testing Accuracy : 0.66668\n"
          ]
        }
      ]
    },
    {
      "cell_type": "code",
      "source": [
        "# confusion matrix\n",
        "print('\\nConfusion matrix')  \n",
        "cm = confusion_matrix(y_test, y_pred) \n",
        "print(cm)\n",
        "\n",
        "# classification report  \n",
        "print('\\nClassification report')  \n",
        "cr = classification_report(y_test, y_pred) \n",
        "print(cr)"
      ],
      "metadata": {
        "colab": {
          "base_uri": "https://localhost:8080/"
        },
        "id": "izcjq19_eZzz",
        "outputId": "6faae4fb-d486-419f-afb8-e8126a4fc12e"
      },
      "execution_count": 7,
      "outputs": [
        {
          "output_type": "stream",
          "name": "stdout",
          "text": [
            "\n",
            "Confusion matrix\n",
            "[[    1  8330]\n",
            " [    3 16666]]\n",
            "\n",
            "Classification report\n",
            "              precision    recall  f1-score   support\n",
            "\n",
            "           0       0.25      0.00      0.00      8331\n",
            "           1       0.67      1.00      0.80     16669\n",
            "\n",
            "    accuracy                           0.67     25000\n",
            "   macro avg       0.46      0.50      0.40     25000\n",
            "weighted avg       0.53      0.67      0.53     25000\n",
            "\n"
          ]
        }
      ]
    }
  ]
}